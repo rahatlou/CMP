{
 "cells": [
  {
   "cell_type": "markdown",
   "metadata": {},
   "source": [
    "# LAB Session 10 (21/12/2020)\n",
    "\n",
    "First we generate the Higgs mass spectrum, with signal and background, and perform a fits to binned data. Then you can repeat the generation to emulate multiple experimens and perform some statistical analysis.\n",
    "\n",
    "In order to help you with the excerise, the notebook provides the necessary steps to obtain a correct spectrum and fit it. Then you will be asked to answer a few questions by repeating some of the steps and make some plots.\n",
    "\n",
    "The main steps are\n",
    "- generate Gaussian signal\n",
    " - plot the distribution\n",
    "- generate exponential background\n",
    " - plot the distribution \n",
    "- Plot the distribution of data by stacking signal and background\n",
    "- Obtain binned data from histogram\n",
    "- fit binned data with `curve_fit`\n",
    "- compute the signal significance defined as $S/\\sqrt B$\n",
    "\n",
    "At this point you can repeat the above steps to perform a few studies and make some plots. The details of each exercise are provided at the end."
   ]
  },
  {
   "cell_type": "markdown",
   "metadata": {},
   "source": [
    "# Modules for this exercise\n",
    "\n",
    "- `scipy.optimize` for fitting\n",
    "- `scipy.integrate` for integration"
   ]
  },
  {
   "cell_type": "code",
   "execution_count": null,
   "metadata": {},
   "outputs": [],
   "source": [
    "import numpy as np\n",
    "import matplotlib.pyplot as pl\n",
    "import scipy.stats as stats\n",
    "from scipy import optimize as op  \n",
    "from scipy import integrate"
   ]
  },
  {
   "cell_type": "markdown",
   "metadata": {},
   "source": [
    "# Parameters\n",
    "- Num. of signal events\n",
    "- Num. of background events\n",
    "- Higgs mass\n",
    "- Higgs width due to detector resolution (intrinsic width is negligible)"
   ]
  },
  {
   "cell_type": "code",
   "execution_count": null,
   "metadata": {},
   "outputs": [],
   "source": [
    "n_sig_0 = 100\n",
    "n_bkg_0 = 10000\n",
    "\n",
    "m_sig = 125 # GeV\n",
    "w_sig = 0.02 # in %\n",
    "w_sig *= m_sig"
   ]
  },
  {
   "cell_type": "markdown",
   "metadata": {},
   "source": [
    "# Histogram data\n",
    "boundaries and number of bins"
   ]
  },
  {
   "cell_type": "code",
   "execution_count": null,
   "metadata": {
    "scrolled": true
   },
   "outputs": [],
   "source": [
    "x_min = 0 # GeV\n",
    "x_max = 200 # GeV\n",
    "n_bins = 100\n",
    "bin_width = (x_max-x_min)/n_bins # GeV\n",
    "print('%d bins from %.1f to %.1f'%(n_bins, x_min, x_max))\n",
    "print('bin width: %.2f GeV'%(bin_width))"
   ]
  },
  {
   "cell_type": "markdown",
   "metadata": {},
   "source": [
    "## Generate signal sample\n",
    "\n",
    "`n_sig` events with a Gaussian distribution around Higgs mass"
   ]
  },
  {
   "cell_type": "code",
   "execution_count": null,
   "metadata": {},
   "outputs": [],
   "source": []
  },
  {
   "cell_type": "markdown",
   "metadata": {},
   "source": [
    "## Plots signal distribution\n",
    "\n",
    "Use [matplotlib.pyplot.hist](https://matplotlib.org/3.3.3/api/_as_gen/matplotlib.pyplot.hist.html)"
   ]
  },
  {
   "cell_type": "code",
   "execution_count": null,
   "metadata": {},
   "outputs": [],
   "source": [
    "%matplotlib notebook\n"
   ]
  },
  {
   "cell_type": "markdown",
   "metadata": {},
   "source": [
    "## Generate background sample\n",
    "\n",
    "`n_bkg` events with an exponential distribution. For example, you can use [numpy.random.exponential](https://numpy.org/doc/stable/reference/random/generated/numpy.random.exponential.html)\n",
    "\n",
    "Choose an exponential parameter that populates bins with tens of events for mass of 200 GeV. for example use `scale=80` in [numpy.random.exponential]"
   ]
  },
  {
   "cell_type": "code",
   "execution_count": null,
   "metadata": {},
   "outputs": [],
   "source": []
  },
  {
   "cell_type": "markdown",
   "metadata": {},
   "source": [
    "## Plots background distribution\n",
    "Use [matplotlib.pyplot.hist](https://matplotlib.org/3.3.3/api/_as_gen/matplotlib.pyplot.hist.html)\n",
    "\n",
    "Useful options:\n",
    "- _bins=n_ : fix number of bins to _n_\n",
    "- _hist=options_ : for example _hist='step'_ to show empty histogram\n",
    "- _range=(min,max)_ : fix the boundaries of data in histogram. \n",
    "  - **NB**: this is different than using _xlim(min,max)_ which is only for visualization\n"
   ]
  },
  {
   "cell_type": "code",
   "execution_count": null,
   "metadata": {},
   "outputs": [],
   "source": []
  },
  {
   "cell_type": "markdown",
   "metadata": {},
   "source": [
    "## Stack signal and background data in the same histogram\n",
    "\n",
    "If you have two data arrays `signal` and `background` try the following options to stack signal on top of the background\n",
    "\n",
    "```python\n",
    "pl.hist( (background,signal), bins=n_bins, label=('backgroud', 'signal'), color=('red','blue'), stacked=True , \n",
    "        histtype='step', range=(x_min,x_max) )\n",
    "```"
   ]
  },
  {
   "cell_type": "code",
   "execution_count": null,
   "metadata": {},
   "outputs": [],
   "source": []
  },
  {
   "cell_type": "markdown",
   "metadata": {},
   "source": [
    "## Merge signal and background samples\n",
    "\n",
    "The data collected in an experiment contains both signal and background. We have simulated the two samples separately and they can be merged with [numpy.concatenate](https://numpy.org/doc/stable/reference/generated/numpy.concatenate.html)\n",
    "\n",
    "```python\n",
    "a = np.array(...)\n",
    "b = np.array(...)\n",
    "\n",
    "data = np.concatenate( (a,b) )\n",
    "```\n",
    "Note ow the first positional argument of the function is a tuple of numpy arrays."
   ]
  },
  {
   "cell_type": "code",
   "execution_count": null,
   "metadata": {},
   "outputs": [],
   "source": []
  },
  {
   "cell_type": "markdown",
   "metadata": {},
   "source": [
    "## Binned data\n",
    "\n",
    "The data sample so far is unbinned: we have a number of signal and background events. \n",
    "\n",
    "Now we can create a binned version to be fitted. This is achieved with the `pyplot.hist` function which returns a list of counts for each bin and the bin boundaries\n",
    "```python\n",
    "\n",
    "binned_data, bins, _ = pl.hist( data, bins=n_bins, label='all data', color='black', histtype='step', range=(x_min,x_max) )\n",
    "\n",
    "```\n",
    "\n",
    "plot the merged data and make sure it is indeed the sum of the two sub-samples."
   ]
  },
  {
   "cell_type": "code",
   "execution_count": null,
   "metadata": {},
   "outputs": [],
   "source": []
  },
  {
   "cell_type": "markdown",
   "metadata": {},
   "source": [
    "## `bins` list\n",
    "\n",
    "The list `bins` contains `n_bins + 1` values: edge of the first bin ... edge of the last bin. You can verify this easily"
   ]
  },
  {
   "cell_type": "code",
   "execution_count": null,
   "metadata": {},
   "outputs": [],
   "source": [
    "print(len(bins))\n",
    "print(bins[:10])\n",
    "print(bins[-10:])"
   ]
  },
  {
   "cell_type": "markdown",
   "metadata": {},
   "source": [
    "## center of bins (data along x axis)\n",
    "\n",
    "Using a comprehension, prepare a list `center_bins` from `bins` with length of `n_bins` which contains the center of each bin of the histogram"
   ]
  },
  {
   "cell_type": "code",
   "execution_count": null,
   "metadata": {},
   "outputs": [],
   "source": []
  },
  {
   "cell_type": "code",
   "execution_count": null,
   "metadata": {},
   "outputs": [],
   "source": [
    "print(len(center_bins))\n",
    "print(center_bins[:5])\n",
    "print(center_bins[-5:])"
   ]
  },
  {
   "cell_type": "markdown",
   "metadata": {},
   "source": [
    "## bin count (data along y axis)\n",
    "\n",
    "Verify that the list `binned data` should have length `n_bins` "
   ]
  },
  {
   "cell_type": "code",
   "execution_count": null,
   "metadata": {},
   "outputs": [],
   "source": [
    "print(len(binned_data))\n",
    "print(binned_data[:10])\n",
    "print(binned_data[-10:])"
   ]
  },
  {
   "cell_type": "markdown",
   "metadata": {},
   "source": [
    "## Fitting the histogram\n",
    "\n",
    "We want to fit the binned data (`binned_data` as a function of `center_bins`) using the [optimize.curve_fit](https://docs.scipy.org/doc/scipy/reference/generated/scipy.optimize.curve_fit.html) function\n",
    "\n",
    "The fir model has to be the sum of a Gaussian and an exponential.\n",
    "\n",
    "Recall that [optimize.curve_fit](https://docs.scipy.org/doc/scipy/reference/generated/scipy.optimize.curve_fit.html) has the following structure\n",
    "```python\n",
    "curve_fit( function, x_data, y_data , ... )\n",
    "```\n",
    "\n",
    "Define three functions with proper arguments\n",
    "1. `sig(x, Norm, mean, width)` for the signal Gaussian\n",
    "2. `bkg(x, Norm, alpha)` for the background exponential\n",
    "3. `total(x,NormSig, mean, width, NormBkg, alpha)` sum of signal and background\n",
    "\n",
    "There are a total of 5 parameters to be fitted from data"
   ]
  },
  {
   "cell_type": "code",
   "execution_count": null,
   "metadata": {},
   "outputs": [],
   "source": []
  },
  {
   "cell_type": "markdown",
   "metadata": {},
   "source": [
    "## Plot fit function\n",
    "\n",
    "As a sanity check you can plot the 3 functions and make sure they are implemented correctly.\n",
    "```python\n",
    "\n",
    "pl.plot(x, sig(...), 'b-', label='signal')\n",
    "\n",
    "pl.plot(x, bkg(...), 'r--', label='background', )\n",
    "\n",
    "pl.plot(x, total(...), 'navy', label='total')\n",
    "\n",
    "```"
   ]
  },
  {
   "cell_type": "code",
   "execution_count": null,
   "metadata": {
    "scrolled": false
   },
   "outputs": [],
   "source": []
  },
  {
   "cell_type": "markdown",
   "metadata": {},
   "source": [
    "## Initial conditions for the fit\n",
    "\n",
    "Since there are 5 parameters and the data varies a lot across the spectrum, it is always a good practice to provide some initial values for the parameters to be fitted. This is done with the argument `p0` in [optimize.curve_fit](https://docs.scipy.org/doc/scipy/reference/generated/scipy.optimize.curve_fit.html)\n",
    "```python\n",
    "pars, pars_cov = op.curve_fit(..., p0=[500, m_sig, w_sig, 1000, alpha])\n",
    "```\n",
    "\n",
    "Recall that `pars` are the fitted parameters (in the order they appear in the definition of the fit function) and `pars_cov` is their covariance matrix that can be used to compute the uncertainty on each fitted parameter"
   ]
  },
  {
   "cell_type": "code",
   "execution_count": null,
   "metadata": {},
   "outputs": [],
   "source": []
  },
  {
   "cell_type": "markdown",
   "metadata": {},
   "source": [
    "## Fitted parameters\n",
    "- print the parameters\n",
    "- print the covariance matrix\n",
    "\n",
    "are the fitted values close to the generated values?"
   ]
  },
  {
   "cell_type": "code",
   "execution_count": null,
   "metadata": {},
   "outputs": [],
   "source": [
    "print('==== fitted parameters ===\\n', pars)\n",
    "print('==== covariance matrix\\n', pars_cov)"
   ]
  },
  {
   "cell_type": "markdown",
   "metadata": {},
   "source": [
    "## Plot the histogram and fit\n",
    "\n",
    "- plot th data histogram\n",
    "- Overlay the fitted function (total) with the fitted parameters\n",
    "- overlay the background function with the fitted parameters\n",
    "- print the fitted parameters with proper legend on the screen\n"
   ]
  },
  {
   "cell_type": "code",
   "execution_count": null,
   "metadata": {},
   "outputs": [],
   "source": []
  },
  {
   "cell_type": "markdown",
   "metadata": {},
   "source": [
    "# Signal Significance\n",
    "\n",
    "The signal significance is defined as $S/\\sqrt{B}$ where $S = \\int_a^b sig(m)\\, dm$ and $B = \\int_a^b bkg(m)\\, dm$ with $a = m_{\\rm fitted} - 3\\sigma_{\\rm fitted}$ and $b = m_{\\rm fitted} + 3\\sigma_{\\rm fitted}$\n",
    "\n",
    "In order to compute the definite integral, you can use [scipy.integrate.quad](https://docs.scipy.org/doc/scipy/reference/generated/scipy.integrate.quad.html)\n",
    "\n",
    "For example to integrate `func` in `[x_min, x_max]` \n",
    "```python \n",
    "\n",
    "def poly1(x, a, b):\n",
    "    return a*x + b\n",
    "\n",
    "x_min = 3\n",
    "x_max =  10\n",
    "\n",
    "m = 2\n",
    "q = 3\n",
    "\n",
    "res = scipy.integrate.quad( poly1, x_min, x_max, args=(m,q) )\n",
    "```\n",
    "\n",
    "`res` is a list with two elements\n",
    "- the value of the integral `res[0]`\n",
    "- its uncertainty `res[1]`\n",
    "\n",
    "## compute S"
   ]
  },
  {
   "cell_type": "code",
   "execution_count": null,
   "metadata": {},
   "outputs": [],
   "source": [
    "fitted_mass = pars[1]\n",
    "fitted_width = pars[2]\n",
    "\n",
    "a = fitted_mass-3.*fitted_width\n",
    "b = fitted_mass+3.*fitted_width"
   ]
  },
  {
   "cell_type": "code",
   "execution_count": null,
   "metadata": {},
   "outputs": [],
   "source": []
  },
  {
   "cell_type": "markdown",
   "metadata": {},
   "source": [
    "## compute B"
   ]
  },
  {
   "cell_type": "code",
   "execution_count": null,
   "metadata": {},
   "outputs": [],
   "source": []
  },
  {
   "cell_type": "markdown",
   "metadata": {},
   "source": [
    "## compute significance and print the result"
   ]
  },
  {
   "cell_type": "code",
   "execution_count": null,
   "metadata": {},
   "outputs": [],
   "source": []
  },
  {
   "cell_type": "markdown",
   "metadata": {},
   "source": [
    "# Exercise 1\n",
    "\n",
    "1. Fix the number of background events $N_B = 10000$ and vary the number of signal events $N_S$ in \n",
    " `[10, 50, 100, 500, 1000]`\n",
    "  - plot the signficance as a function of $N_S$\n",
    "  - You can now change $N_B$ and remake the same plot and show the data for different values of $N_B$\n",
    "  - how does the significance depend on $N_S$ and $N_B$ ?\n",
    " "
   ]
  },
  {
   "cell_type": "code",
   "execution_count": null,
   "metadata": {},
   "outputs": [],
   "source": []
  },
  {
   "cell_type": "markdown",
   "metadata": {},
   "source": [
    "# Exercise 2\n",
    "\n",
    "2. Fix $N_B = 10000$ and $N_S = 200$. Vary the mass width between `[0.01, 0.2, 0.05, 0.10, 0.20, 0.50]`\n",
    "  - plot the significance as a function of the mass width \n",
    "  - which mass width provide the best signal significance?"
   ]
  },
  {
   "cell_type": "code",
   "execution_count": null,
   "metadata": {},
   "outputs": [],
   "source": []
  },
  {
   "cell_type": "markdown",
   "metadata": {},
   "source": [
    "# Exercise 3\n",
    "\n",
    "\n",
    "3. Fix $N_B = 10000$ and $N_S = 200$ and repeat the experiments 1000 times\n",
    "  - for each experiment generate the number of signal and background events from a Poisson distribution\n",
    "    - mean of signal events: 200\n",
    "    - mean of background events: 10000\n",
    "  - compute the significance for each experiment\n",
    "  - plot the distribution of significance for all experiments\n",
    "  - plot the distribution of $m_{fitted} - m_H$ for all experiments\n",
    "  - fit to a Gaussian and print the fitted $\\mu$ and $\\sigma$"
   ]
  },
  {
   "cell_type": "code",
   "execution_count": null,
   "metadata": {},
   "outputs": [],
   "source": []
  }
 ],
 "metadata": {
  "kernelspec": {
   "display_name": "Python 3",
   "language": "python",
   "name": "python3"
  },
  "language_info": {
   "codemirror_mode": {
    "name": "ipython",
    "version": 3
   },
   "file_extension": ".py",
   "mimetype": "text/x-python",
   "name": "python",
   "nbconvert_exporter": "python",
   "pygments_lexer": "ipython3",
   "version": "3.7.6"
  }
 },
 "nbformat": 4,
 "nbformat_minor": 4
}
